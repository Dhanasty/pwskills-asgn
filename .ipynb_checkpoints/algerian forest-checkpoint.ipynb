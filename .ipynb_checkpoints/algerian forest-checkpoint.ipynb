{
 "cells": [
  {
   "cell_type": "code",
   "execution_count": 1,
   "id": "844cadfa",
   "metadata": {},
   "outputs": [],
   "source": [
    "import pandas as pd"
   ]
  },
  {
   "cell_type": "code",
   "execution_count": 2,
   "id": "5f30e475",
   "metadata": {},
   "outputs": [],
   "source": [
    "df = pd.read_csv(\"Cleaned_Algerian_Forest.csv\")"
   ]
  },
  {
   "cell_type": "code",
   "execution_count": 3,
   "id": "1868b42e",
   "metadata": {},
   "outputs": [
    {
     "data": {
      "text/html": [
       "<div>\n",
       "<style scoped>\n",
       "    .dataframe tbody tr th:only-of-type {\n",
       "        vertical-align: middle;\n",
       "    }\n",
       "\n",
       "    .dataframe tbody tr th {\n",
       "        vertical-align: top;\n",
       "    }\n",
       "\n",
       "    .dataframe thead th {\n",
       "        text-align: right;\n",
       "    }\n",
       "</style>\n",
       "<table border=\"1\" class=\"dataframe\">\n",
       "  <thead>\n",
       "    <tr style=\"text-align: right;\">\n",
       "      <th></th>\n",
       "      <th>day</th>\n",
       "      <th>month</th>\n",
       "      <th>Temperature</th>\n",
       "      <th>RH</th>\n",
       "      <th>Ws</th>\n",
       "      <th>Rain</th>\n",
       "      <th>FFMC</th>\n",
       "      <th>DMC</th>\n",
       "      <th>DC</th>\n",
       "      <th>ISI</th>\n",
       "      <th>BUI</th>\n",
       "      <th>FWI</th>\n",
       "      <th>Classes_encode</th>\n",
       "    </tr>\n",
       "  </thead>\n",
       "  <tbody>\n",
       "    <tr>\n",
       "      <th>0</th>\n",
       "      <td>1</td>\n",
       "      <td>6</td>\n",
       "      <td>29</td>\n",
       "      <td>57</td>\n",
       "      <td>18</td>\n",
       "      <td>0.0</td>\n",
       "      <td>65.7</td>\n",
       "      <td>3.4</td>\n",
       "      <td>7.6</td>\n",
       "      <td>1.3</td>\n",
       "      <td>3.4</td>\n",
       "      <td>0.5</td>\n",
       "      <td>2</td>\n",
       "    </tr>\n",
       "    <tr>\n",
       "      <th>1</th>\n",
       "      <td>2</td>\n",
       "      <td>6</td>\n",
       "      <td>29</td>\n",
       "      <td>61</td>\n",
       "      <td>13</td>\n",
       "      <td>1.3</td>\n",
       "      <td>64.4</td>\n",
       "      <td>4.1</td>\n",
       "      <td>7.6</td>\n",
       "      <td>1.0</td>\n",
       "      <td>3.9</td>\n",
       "      <td>0.4</td>\n",
       "      <td>2</td>\n",
       "    </tr>\n",
       "    <tr>\n",
       "      <th>2</th>\n",
       "      <td>5</td>\n",
       "      <td>6</td>\n",
       "      <td>27</td>\n",
       "      <td>77</td>\n",
       "      <td>16</td>\n",
       "      <td>0.0</td>\n",
       "      <td>64.8</td>\n",
       "      <td>3.0</td>\n",
       "      <td>14.2</td>\n",
       "      <td>1.2</td>\n",
       "      <td>3.9</td>\n",
       "      <td>0.5</td>\n",
       "      <td>2</td>\n",
       "    </tr>\n",
       "    <tr>\n",
       "      <th>3</th>\n",
       "      <td>6</td>\n",
       "      <td>6</td>\n",
       "      <td>31</td>\n",
       "      <td>67</td>\n",
       "      <td>14</td>\n",
       "      <td>0.0</td>\n",
       "      <td>82.6</td>\n",
       "      <td>5.8</td>\n",
       "      <td>22.2</td>\n",
       "      <td>3.1</td>\n",
       "      <td>7.0</td>\n",
       "      <td>2.5</td>\n",
       "      <td>1</td>\n",
       "    </tr>\n",
       "    <tr>\n",
       "      <th>4</th>\n",
       "      <td>7</td>\n",
       "      <td>6</td>\n",
       "      <td>33</td>\n",
       "      <td>54</td>\n",
       "      <td>13</td>\n",
       "      <td>0.0</td>\n",
       "      <td>88.2</td>\n",
       "      <td>9.9</td>\n",
       "      <td>30.5</td>\n",
       "      <td>6.4</td>\n",
       "      <td>10.9</td>\n",
       "      <td>7.2</td>\n",
       "      <td>1</td>\n",
       "    </tr>\n",
       "  </tbody>\n",
       "</table>\n",
       "</div>"
      ],
      "text/plain": [
       "   day  month  Temperature  RH  Ws  Rain  FFMC  DMC    DC  ISI   BUI  FWI  \\\n",
       "0    1      6           29  57  18   0.0  65.7  3.4   7.6  1.3   3.4  0.5   \n",
       "1    2      6           29  61  13   1.3  64.4  4.1   7.6  1.0   3.9  0.4   \n",
       "2    5      6           27  77  16   0.0  64.8  3.0  14.2  1.2   3.9  0.5   \n",
       "3    6      6           31  67  14   0.0  82.6  5.8  22.2  3.1   7.0  2.5   \n",
       "4    7      6           33  54  13   0.0  88.2  9.9  30.5  6.4  10.9  7.2   \n",
       "\n",
       "   Classes_encode  \n",
       "0               2  \n",
       "1               2  \n",
       "2               2  \n",
       "3               1  \n",
       "4               1  "
      ]
     },
     "execution_count": 3,
     "metadata": {},
     "output_type": "execute_result"
    }
   ],
   "source": [
    "df.head()"
   ]
  },
  {
   "cell_type": "code",
   "execution_count": 4,
   "id": "f2ca5d18",
   "metadata": {},
   "outputs": [
    {
     "data": {
      "text/plain": [
       "day               0\n",
       "month             0\n",
       "Temperature       0\n",
       "RH                0\n",
       "Ws                0\n",
       "Rain              0\n",
       "FFMC              0\n",
       "DMC               0\n",
       "DC                0\n",
       "ISI               0\n",
       "BUI               0\n",
       "FWI               0\n",
       "Classes_encode    0\n",
       "dtype: int64"
      ]
     },
     "execution_count": 4,
     "metadata": {},
     "output_type": "execute_result"
    }
   ],
   "source": [
    "#check missing values\n",
    "df.isnull().sum()"
   ]
  },
  {
   "cell_type": "code",
   "execution_count": 6,
   "id": "dfb218f9",
   "metadata": {},
   "outputs": [
    {
     "data": {
      "text/plain": [
       "0"
      ]
     },
     "execution_count": 6,
     "metadata": {},
     "output_type": "execute_result"
    }
   ],
   "source": [
    "df.duplicated().sum()"
   ]
  },
  {
   "cell_type": "code",
   "execution_count": 7,
   "id": "317edaf6",
   "metadata": {},
   "outputs": [
    {
     "name": "stdout",
     "output_type": "stream",
     "text": [
      "<class 'pandas.core.frame.DataFrame'>\n",
      "RangeIndex: 186 entries, 0 to 185\n",
      "Data columns (total 13 columns):\n",
      " #   Column          Non-Null Count  Dtype  \n",
      "---  ------          --------------  -----  \n",
      " 0   day             186 non-null    int64  \n",
      " 1   month           186 non-null    int64  \n",
      " 2   Temperature     186 non-null    int64  \n",
      " 3   RH              186 non-null    int64  \n",
      " 4   Ws              186 non-null    int64  \n",
      " 5   Rain            186 non-null    float64\n",
      " 6   FFMC            186 non-null    float64\n",
      " 7   DMC             186 non-null    float64\n",
      " 8   DC              186 non-null    float64\n",
      " 9   ISI             186 non-null    float64\n",
      " 10  BUI             186 non-null    float64\n",
      " 11  FWI             186 non-null    float64\n",
      " 12  Classes_encode  186 non-null    int64  \n",
      "dtypes: float64(7), int64(6)\n",
      "memory usage: 19.0 KB\n"
     ]
    }
   ],
   "source": [
    "df.info()"
   ]
  },
  {
   "cell_type": "code",
   "execution_count": 8,
   "id": "eea8b466",
   "metadata": {},
   "outputs": [
    {
     "data": {
      "text/html": [
       "<div>\n",
       "<style scoped>\n",
       "    .dataframe tbody tr th:only-of-type {\n",
       "        vertical-align: middle;\n",
       "    }\n",
       "\n",
       "    .dataframe tbody tr th {\n",
       "        vertical-align: top;\n",
       "    }\n",
       "\n",
       "    .dataframe thead th {\n",
       "        text-align: right;\n",
       "    }\n",
       "</style>\n",
       "<table border=\"1\" class=\"dataframe\">\n",
       "  <thead>\n",
       "    <tr style=\"text-align: right;\">\n",
       "      <th></th>\n",
       "      <th>day</th>\n",
       "      <th>month</th>\n",
       "      <th>Temperature</th>\n",
       "      <th>RH</th>\n",
       "      <th>Ws</th>\n",
       "      <th>Rain</th>\n",
       "      <th>FFMC</th>\n",
       "      <th>DMC</th>\n",
       "      <th>DC</th>\n",
       "      <th>ISI</th>\n",
       "      <th>BUI</th>\n",
       "      <th>FWI</th>\n",
       "      <th>Classes_encode</th>\n",
       "    </tr>\n",
       "  </thead>\n",
       "  <tbody>\n",
       "    <tr>\n",
       "      <th>count</th>\n",
       "      <td>186.000000</td>\n",
       "      <td>186.000000</td>\n",
       "      <td>186.000000</td>\n",
       "      <td>186.000000</td>\n",
       "      <td>186.000000</td>\n",
       "      <td>186.000000</td>\n",
       "      <td>186.000000</td>\n",
       "      <td>186.000000</td>\n",
       "      <td>186.000000</td>\n",
       "      <td>186.000000</td>\n",
       "      <td>186.00000</td>\n",
       "      <td>186.000000</td>\n",
       "      <td>186.000000</td>\n",
       "    </tr>\n",
       "    <tr>\n",
       "      <th>mean</th>\n",
       "      <td>15.822581</td>\n",
       "      <td>7.446237</td>\n",
       "      <td>32.263441</td>\n",
       "      <td>63.075269</td>\n",
       "      <td>15.204301</td>\n",
       "      <td>0.225806</td>\n",
       "      <td>79.397849</td>\n",
       "      <td>13.149462</td>\n",
       "      <td>47.379032</td>\n",
       "      <td>4.340860</td>\n",
       "      <td>15.26828</td>\n",
       "      <td>6.080108</td>\n",
       "      <td>1.413978</td>\n",
       "    </tr>\n",
       "    <tr>\n",
       "      <th>std</th>\n",
       "      <td>8.770080</td>\n",
       "      <td>1.119755</td>\n",
       "      <td>3.224980</td>\n",
       "      <td>12.866665</td>\n",
       "      <td>2.299514</td>\n",
       "      <td>0.402533</td>\n",
       "      <td>11.706441</td>\n",
       "      <td>8.842020</td>\n",
       "      <td>40.832759</td>\n",
       "      <td>3.130693</td>\n",
       "      <td>10.70832</td>\n",
       "      <td>5.486788</td>\n",
       "      <td>0.555677</td>\n",
       "    </tr>\n",
       "    <tr>\n",
       "      <th>min</th>\n",
       "      <td>1.000000</td>\n",
       "      <td>6.000000</td>\n",
       "      <td>24.000000</td>\n",
       "      <td>33.000000</td>\n",
       "      <td>8.000000</td>\n",
       "      <td>0.000000</td>\n",
       "      <td>36.100000</td>\n",
       "      <td>0.900000</td>\n",
       "      <td>7.300000</td>\n",
       "      <td>0.000000</td>\n",
       "      <td>1.40000</td>\n",
       "      <td>0.000000</td>\n",
       "      <td>0.000000</td>\n",
       "    </tr>\n",
       "    <tr>\n",
       "      <th>25%</th>\n",
       "      <td>8.000000</td>\n",
       "      <td>6.000000</td>\n",
       "      <td>30.000000</td>\n",
       "      <td>54.000000</td>\n",
       "      <td>14.000000</td>\n",
       "      <td>0.000000</td>\n",
       "      <td>76.000000</td>\n",
       "      <td>6.075000</td>\n",
       "      <td>16.525000</td>\n",
       "      <td>1.700000</td>\n",
       "      <td>6.52500</td>\n",
       "      <td>0.900000</td>\n",
       "      <td>1.000000</td>\n",
       "    </tr>\n",
       "    <tr>\n",
       "      <th>50%</th>\n",
       "      <td>16.000000</td>\n",
       "      <td>7.000000</td>\n",
       "      <td>32.000000</td>\n",
       "      <td>64.000000</td>\n",
       "      <td>15.000000</td>\n",
       "      <td>0.000000</td>\n",
       "      <td>83.750000</td>\n",
       "      <td>11.400000</td>\n",
       "      <td>34.950000</td>\n",
       "      <td>3.750000</td>\n",
       "      <td>12.55000</td>\n",
       "      <td>4.900000</td>\n",
       "      <td>1.000000</td>\n",
       "    </tr>\n",
       "    <tr>\n",
       "      <th>75%</th>\n",
       "      <td>23.000000</td>\n",
       "      <td>8.000000</td>\n",
       "      <td>35.000000</td>\n",
       "      <td>73.000000</td>\n",
       "      <td>17.000000</td>\n",
       "      <td>0.300000</td>\n",
       "      <td>87.675000</td>\n",
       "      <td>18.575000</td>\n",
       "      <td>63.375000</td>\n",
       "      <td>6.775000</td>\n",
       "      <td>21.67500</td>\n",
       "      <td>9.900000</td>\n",
       "      <td>2.000000</td>\n",
       "    </tr>\n",
       "    <tr>\n",
       "      <th>max</th>\n",
       "      <td>31.000000</td>\n",
       "      <td>9.000000</td>\n",
       "      <td>40.000000</td>\n",
       "      <td>90.000000</td>\n",
       "      <td>20.000000</td>\n",
       "      <td>1.900000</td>\n",
       "      <td>92.000000</td>\n",
       "      <td>40.500000</td>\n",
       "      <td>180.400000</td>\n",
       "      <td>19.000000</td>\n",
       "      <td>50.90000</td>\n",
       "      <td>22.300000</td>\n",
       "      <td>4.000000</td>\n",
       "    </tr>\n",
       "  </tbody>\n",
       "</table>\n",
       "</div>"
      ],
      "text/plain": [
       "              day       month  Temperature          RH          Ws  \\\n",
       "count  186.000000  186.000000   186.000000  186.000000  186.000000   \n",
       "mean    15.822581    7.446237    32.263441   63.075269   15.204301   \n",
       "std      8.770080    1.119755     3.224980   12.866665    2.299514   \n",
       "min      1.000000    6.000000    24.000000   33.000000    8.000000   \n",
       "25%      8.000000    6.000000    30.000000   54.000000   14.000000   \n",
       "50%     16.000000    7.000000    32.000000   64.000000   15.000000   \n",
       "75%     23.000000    8.000000    35.000000   73.000000   17.000000   \n",
       "max     31.000000    9.000000    40.000000   90.000000   20.000000   \n",
       "\n",
       "             Rain        FFMC         DMC          DC         ISI        BUI  \\\n",
       "count  186.000000  186.000000  186.000000  186.000000  186.000000  186.00000   \n",
       "mean     0.225806   79.397849   13.149462   47.379032    4.340860   15.26828   \n",
       "std      0.402533   11.706441    8.842020   40.832759    3.130693   10.70832   \n",
       "min      0.000000   36.100000    0.900000    7.300000    0.000000    1.40000   \n",
       "25%      0.000000   76.000000    6.075000   16.525000    1.700000    6.52500   \n",
       "50%      0.000000   83.750000   11.400000   34.950000    3.750000   12.55000   \n",
       "75%      0.300000   87.675000   18.575000   63.375000    6.775000   21.67500   \n",
       "max      1.900000   92.000000   40.500000  180.400000   19.000000   50.90000   \n",
       "\n",
       "              FWI  Classes_encode  \n",
       "count  186.000000      186.000000  \n",
       "mean     6.080108        1.413978  \n",
       "std      5.486788        0.555677  \n",
       "min      0.000000        0.000000  \n",
       "25%      0.900000        1.000000  \n",
       "50%      4.900000        1.000000  \n",
       "75%      9.900000        2.000000  \n",
       "max     22.300000        4.000000  "
      ]
     },
     "execution_count": 8,
     "metadata": {},
     "output_type": "execute_result"
    }
   ],
   "source": [
    "df.describe()"
   ]
  },
  {
   "cell_type": "code",
   "execution_count": 9,
   "id": "cd0aa36d",
   "metadata": {},
   "outputs": [
    {
     "data": {
      "text/plain": [
       "array([2, 1, 0, 4, 3], dtype=int64)"
      ]
     },
     "execution_count": 9,
     "metadata": {},
     "output_type": "execute_result"
    }
   ],
   "source": [
    "df.Classes_encode.unique()"
   ]
  },
  {
   "cell_type": "code",
   "execution_count": 11,
   "id": "12dd547d",
   "metadata": {},
   "outputs": [],
   "source": [
    "import matplotlib.pyplot as plt\n",
    "import seaborn as sns"
   ]
  },
  {
   "cell_type": "code",
   "execution_count": 13,
   "id": "d0b5bc7b",
   "metadata": {},
   "outputs": [
    {
     "data": {
      "text/plain": [
       "<AxesSubplot:>"
      ]
     },
     "execution_count": 13,
     "metadata": {},
     "output_type": "execute_result"
    },
    {
     "data": {
      "image/png": "[encoded data removed]",
      "text/plain": [
       "<Figure size 432x288 with 2 Axes>"
      ]
     },
     "metadata": {
      "needs_background": "light"
     },
     "output_type": "display_data"
    }
   ],
   "source": [
    "sns.heatmap(df.corr())"
   ]
  },
  {
   "cell_type": "markdown",
   "id": "0fa76a5d",
   "metadata": {},
   "source": [
    "## Insights\n",
    "- We can observe that if FMC, DMC, DC , ISI , BUI, FWI are highly correlated"
   ]
  },
  {
   "cell_type": "code",
   "execution_count": null,
   "id": "3572f371",
   "metadata": {},
   "outputs": [],
   "source": [
    "sns.histplot()"
   ]
  }
 ],
 "metadata": {
  "kernelspec": {
   "display_name": "Python 3 (ipykernel)",
   "language": "python",
   "name": "python3"
  },
  "language_info": {
   "codemirror_mode": {
    "name": "ipython",
    "version": 3
   },
   "file_extension": ".py",
   "mimetype": "text/x-python",
   "name": "python",
   "nbconvert_exporter": "python",
   "pygments_lexer": "ipython3",
   "version": "3.9.7"
  }
 },
 "nbformat": 4,
 "nbformat_minor": 5
}
