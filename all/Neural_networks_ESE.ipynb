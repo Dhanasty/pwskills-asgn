{
 "cells": [
  {
   "cell_type": "code",
   "execution_count": 2,
   "id": "bca4ae84",
   "metadata": {},
   "outputs": [],
   "source": [
    "import pandas as pd\n",
    "from sklearn.model_selection import train_test_split\n",
    "import tensorflow as tf\n",
    "import numpy as np"
   ]
  },
  {
   "cell_type": "code",
   "execution_count": 3,
   "id": "78abee05",
   "metadata": {},
   "outputs": [],
   "source": [
    "df = pd.read_csv(\"heart.csv\")"
   ]
  },
  {
   "cell_type": "code",
   "execution_count": 4,
   "id": "ee0a5b0d",
   "metadata": {},
   "outputs": [
    {
     "data": {
      "text/html": [
       "<div>\n",
       "<style scoped>\n",
       "    .dataframe tbody tr th:only-of-type {\n",
       "        vertical-align: middle;\n",
       "    }\n",
       "\n",
       "    .dataframe tbody tr th {\n",
       "        vertical-align: top;\n",
       "    }\n",
       "\n",
       "    .dataframe thead th {\n",
       "        text-align: right;\n",
       "    }\n",
       "</style>\n",
       "<table border=\"1\" class=\"dataframe\">\n",
       "  <thead>\n",
       "    <tr style=\"text-align: right;\">\n",
       "      <th></th>\n",
       "      <th>age</th>\n",
       "      <th>sex</th>\n",
       "      <th>cp</th>\n",
       "      <th>trestbps</th>\n",
       "      <th>chol</th>\n",
       "      <th>fbs</th>\n",
       "      <th>restecg</th>\n",
       "      <th>thalach</th>\n",
       "      <th>exang</th>\n",
       "      <th>oldpeak</th>\n",
       "      <th>slope</th>\n",
       "      <th>ca</th>\n",
       "      <th>thal</th>\n",
       "      <th>target</th>\n",
       "    </tr>\n",
       "  </thead>\n",
       "  <tbody>\n",
       "    <tr>\n",
       "      <th>0</th>\n",
       "      <td>52</td>\n",
       "      <td>1</td>\n",
       "      <td>0</td>\n",
       "      <td>125</td>\n",
       "      <td>212</td>\n",
       "      <td>0</td>\n",
       "      <td>1</td>\n",
       "      <td>168</td>\n",
       "      <td>0</td>\n",
       "      <td>1.0</td>\n",
       "      <td>2</td>\n",
       "      <td>2</td>\n",
       "      <td>3</td>\n",
       "      <td>0</td>\n",
       "    </tr>\n",
       "    <tr>\n",
       "      <th>1</th>\n",
       "      <td>53</td>\n",
       "      <td>1</td>\n",
       "      <td>0</td>\n",
       "      <td>140</td>\n",
       "      <td>203</td>\n",
       "      <td>1</td>\n",
       "      <td>0</td>\n",
       "      <td>155</td>\n",
       "      <td>1</td>\n",
       "      <td>3.1</td>\n",
       "      <td>0</td>\n",
       "      <td>0</td>\n",
       "      <td>3</td>\n",
       "      <td>0</td>\n",
       "    </tr>\n",
       "  </tbody>\n",
       "</table>\n",
       "</div>"
      ],
      "text/plain": [
       "   age  sex  cp  trestbps  chol  fbs  restecg  thalach  exang  oldpeak  slope  \\\n",
       "0   52    1   0       125   212    0        1      168      0      1.0      2   \n",
       "1   53    1   0       140   203    1        0      155      1      3.1      0   \n",
       "\n",
       "   ca  thal  target  \n",
       "0   2     3       0  \n",
       "1   0     3       0  "
      ]
     },
     "execution_count": 4,
     "metadata": {},
     "output_type": "execute_result"
    }
   ],
   "source": [
    "df.head(2)"
   ]
  },
  {
   "cell_type": "code",
   "execution_count": 9,
   "id": "81769a15",
   "metadata": {},
   "outputs": [],
   "source": [
    "X = df.drop('target',axis=1)\n",
    "Y = df['target']"
   ]
  },
  {
   "cell_type": "markdown",
   "id": "ef7af48e",
   "metadata": {},
   "source": []
  },
  {
   "cell_type": "code",
   "execution_count": 10,
   "id": "da21aa7b",
   "metadata": {},
   "outputs": [
    {
     "name": "stdout",
     "output_type": "stream",
     "text": [
      "(820, 13) (205, 13) (1025, 13)\n"
     ]
    }
   ],
   "source": [
    "X_train,X_test,y_train,y_test=train_test_split(X,Y,test_size=0.2,random_state=2)\n",
    "print(X_train.shape,X_test.shape,X.shape)"
   ]
  },
  {
   "cell_type": "code",
   "execution_count": 54,
   "id": "67bb849f",
   "metadata": {},
   "outputs": [],
   "source": [
    "model = tf.keras.models.Sequential()\n",
    "model.add(tf.keras.layers.Flatten(input_shape=(13,)))\n",
    "\n",
    "model.add(tf.keras.layers.Dense(16, activation = 'relu'))\n",
    "model.add(tf.keras.layers.BatchNormalization()) \n",
    "\n",
    "model.add(tf.keras.layers.Dense(32, activation = 'relu'))\n",
    "model.add(tf.keras.layers.BatchNormalization()) \n",
    "\n",
    "model.add(tf.keras.layers.Dense(64, activation = 'relu'))\n",
    "model.add(tf.keras.layers.BatchNormalization()) \n",
    "\n",
    "model.add(tf.keras.layers.Dense(1, activation = 'sigmoid'))"
   ]
  },
  {
   "cell_type": "code",
   "execution_count": 55,
   "id": "1a2a18d7",
   "metadata": {},
   "outputs": [],
   "source": [
    "model.compile(optimizer = 'adam',\n",
    "              loss='binary_crossentropy',\n",
    "              metrics=['accuracy'])"
   ]
  },
  {
   "cell_type": "code",
   "execution_count": 59,
   "id": "b1799f2d",
   "metadata": {},
   "outputs": [
    {
     "name": "stdout",
     "output_type": "stream",
     "text": [
      "Epoch 1/30\n",
      "7/7 [==============================] - 1s 86ms/step - loss: 0.1533 - accuracy: 0.9524 - val_loss: 0.2600 - val_accuracy: 0.8732\n",
      "Epoch 2/30\n",
      "7/7 [==============================] - 0s 7ms/step - loss: 0.1563 - accuracy: 0.9500 - val_loss: 0.2512 - val_accuracy: 0.8780\n",
      "Epoch 3/30\n",
      "7/7 [==============================] - 0s 7ms/step - loss: 0.1469 - accuracy: 0.9537 - val_loss: 0.2436 - val_accuracy: 0.8829\n",
      "Epoch 4/30\n",
      "7/7 [==============================] - 0s 7ms/step - loss: 0.1429 - accuracy: 0.9512 - val_loss: 0.2424 - val_accuracy: 0.8829\n",
      "Epoch 5/30\n",
      "7/7 [==============================] - 0s 7ms/step - loss: 0.1450 - accuracy: 0.9561 - val_loss: 0.2440 - val_accuracy: 0.8878\n",
      "Epoch 6/30\n",
      "7/7 [==============================] - 0s 6ms/step - loss: 0.1558 - accuracy: 0.9549 - val_loss: 0.2381 - val_accuracy: 0.8927\n",
      "Epoch 7/30\n",
      "7/7 [==============================] - 0s 6ms/step - loss: 0.1476 - accuracy: 0.9390 - val_loss: 0.1923 - val_accuracy: 0.9366\n",
      "Epoch 8/30\n",
      "7/7 [==============================] - 0s 7ms/step - loss: 0.1586 - accuracy: 0.9488 - val_loss: 0.2289 - val_accuracy: 0.9220\n",
      "Epoch 9/30\n",
      "7/7 [==============================] - 0s 6ms/step - loss: 0.1607 - accuracy: 0.9415 - val_loss: 0.2249 - val_accuracy: 0.9366\n",
      "Epoch 10/30\n",
      "7/7 [==============================] - 0s 7ms/step - loss: 0.1425 - accuracy: 0.9500 - val_loss: 0.1688 - val_accuracy: 0.9561\n",
      "Epoch 11/30\n",
      "7/7 [==============================] - 0s 7ms/step - loss: 0.1290 - accuracy: 0.9659 - val_loss: 0.1720 - val_accuracy: 0.9268\n",
      "Epoch 12/30\n",
      "7/7 [==============================] - 0s 9ms/step - loss: 0.1364 - accuracy: 0.9622 - val_loss: 0.1864 - val_accuracy: 0.9512\n",
      "Epoch 13/30\n",
      "7/7 [==============================] - 0s 7ms/step - loss: 0.1346 - accuracy: 0.9537 - val_loss: 0.1689 - val_accuracy: 0.9463\n",
      "Epoch 14/30\n",
      "7/7 [==============================] - 0s 6ms/step - loss: 0.1467 - accuracy: 0.9476 - val_loss: 0.1669 - val_accuracy: 0.9366\n",
      "Epoch 15/30\n",
      "7/7 [==============================] - 0s 7ms/step - loss: 0.1278 - accuracy: 0.9671 - val_loss: 0.2645 - val_accuracy: 0.8878\n",
      "Epoch 16/30\n",
      "7/7 [==============================] - 0s 7ms/step - loss: 0.1455 - accuracy: 0.9512 - val_loss: 0.1876 - val_accuracy: 0.9463\n",
      "Epoch 17/30\n",
      "7/7 [==============================] - 0s 7ms/step - loss: 0.1326 - accuracy: 0.9537 - val_loss: 0.1626 - val_accuracy: 0.9463\n",
      "Epoch 18/30\n",
      "7/7 [==============================] - 0s 6ms/step - loss: 0.1289 - accuracy: 0.9720 - val_loss: 0.1669 - val_accuracy: 0.9512\n",
      "Epoch 19/30\n",
      "7/7 [==============================] - 0s 8ms/step - loss: 0.1272 - accuracy: 0.9695 - val_loss: 0.1788 - val_accuracy: 0.9512\n",
      "Epoch 20/30\n",
      "7/7 [==============================] - 0s 7ms/step - loss: 0.1287 - accuracy: 0.9671 - val_loss: 0.1737 - val_accuracy: 0.9561\n",
      "Epoch 21/30\n",
      "7/7 [==============================] - 0s 7ms/step - loss: 0.1182 - accuracy: 0.9671 - val_loss: 0.1482 - val_accuracy: 0.9756\n",
      "Epoch 22/30\n",
      "7/7 [==============================] - 0s 7ms/step - loss: 0.1231 - accuracy: 0.9659 - val_loss: 0.1746 - val_accuracy: 0.9415\n",
      "Epoch 23/30\n",
      "7/7 [==============================] - 0s 7ms/step - loss: 0.1274 - accuracy: 0.9573 - val_loss: 0.1758 - val_accuracy: 0.9561\n",
      "Epoch 24/30\n",
      "7/7 [==============================] - 0s 7ms/step - loss: 0.1244 - accuracy: 0.9573 - val_loss: 0.1481 - val_accuracy: 0.9561\n",
      "Epoch 25/30\n",
      "7/7 [==============================] - 0s 6ms/step - loss: 0.1188 - accuracy: 0.9622 - val_loss: 0.1754 - val_accuracy: 0.9415\n",
      "Epoch 26/30\n",
      "7/7 [==============================] - 0s 7ms/step - loss: 0.1104 - accuracy: 0.9720 - val_loss: 0.1917 - val_accuracy: 0.9317\n",
      "Epoch 27/30\n",
      "7/7 [==============================] - 0s 7ms/step - loss: 0.1068 - accuracy: 0.9671 - val_loss: 0.1572 - val_accuracy: 0.9659\n",
      "Epoch 28/30\n",
      "7/7 [==============================] - 0s 7ms/step - loss: 0.1085 - accuracy: 0.9683 - val_loss: 0.1297 - val_accuracy: 0.9805\n",
      "Epoch 29/30\n",
      "7/7 [==============================] - 0s 7ms/step - loss: 0.1008 - accuracy: 0.9756 - val_loss: 0.1566 - val_accuracy: 0.9707\n",
      "Epoch 30/30\n",
      "7/7 [==============================] - 0s 7ms/step - loss: 0.1141 - accuracy: 0.9659 - val_loss: 0.1304 - val_accuracy: 0.9707\n"
     ]
    },
    {
     "data": {
      "text/plain": [
       "<keras.callbacks.History at 0x232185d4ee0>"
      ]
     },
     "execution_count": 59,
     "metadata": {},
     "output_type": "execute_result"
    }
   ],
   "source": [
    "model.fit(X_train,y_train,batch_size=128 ,epochs=30, validation_data=(X_test,y_test))"
   ]
  },
  {
   "cell_type": "code",
   "execution_count": 60,
   "id": "d2899b90",
   "metadata": {},
   "outputs": [
    {
     "name": "stdout",
     "output_type": "stream",
     "text": [
      "7/7 [==============================] - 0s 2ms/step - loss: 0.1304 - accuracy: 0.9707\n"
     ]
    },
    {
     "data": {
      "text/plain": [
       "[0.13040298223495483, 0.9707317352294922]"
      ]
     },
     "execution_count": 60,
     "metadata": {},
     "output_type": "execute_result"
    }
   ],
   "source": [
    "model.evaluate(X_test,y_test)\n"
   ]
  },
  {
   "cell_type": "code",
   "execution_count": null,
   "id": "6a33d143",
   "metadata": {},
   "outputs": [],
   "source": []
  },
  {
   "cell_type": "code",
   "execution_count": null,
   "id": "0dd911e8",
   "metadata": {},
   "outputs": [],
   "source": []
  }
 ],
 "metadata": {
  "kernelspec": {
   "display_name": "Python 3 (ipykernel)",
   "language": "python",
   "name": "python3"
  },
  "language_info": {
   "codemirror_mode": {
    "name": "ipython",
    "version": 3
   },
   "file_extension": ".py",
   "mimetype": "text/x-python",
   "name": "python",
   "nbconvert_exporter": "python",
   "pygments_lexer": "ipython3",
   "version": "3.9.7"
  }
 },
 "nbformat": 4,
 "nbformat_minor": 5
}
