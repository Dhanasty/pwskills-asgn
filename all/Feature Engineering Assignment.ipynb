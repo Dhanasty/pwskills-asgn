{
 "cells": [
  {
   "cell_type": "code",
   "execution_count": 1,
   "id": "d2b2e904",
   "metadata": {},
   "outputs": [],
   "source": [
    "#Q1: What are missing values in a dataset? Why is it essential to handle missing values? Name somealgorithms that are not affected by missing values.\n",
    "# Missing values are values which are missing from the dataset and we should handle missing value because we build a accurate model. Gradient boosting classifier, Regressor \n"
   ]
  },
  {
   "cell_type": "code",
   "execution_count": null,
   "id": "c7d5367f",
   "metadata": {},
   "outputs": [],
   "source": [
    "#"
   ]
  }
 ],
 "metadata": {
  "kernelspec": {
   "display_name": "Python 3 (ipykernel)",
   "language": "python",
   "name": "python3"
  },
  "language_info": {
   "codemirror_mode": {
    "name": "ipython",
    "version": 3
   },
   "file_extension": ".py",
   "mimetype": "text/x-python",
   "name": "python",
   "nbconvert_exporter": "python",
   "pygments_lexer": "ipython3",
   "version": "3.9.7"
  }
 },
 "nbformat": 4,
 "nbformat_minor": 5
}
