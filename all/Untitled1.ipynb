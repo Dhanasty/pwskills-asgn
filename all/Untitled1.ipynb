{
 "cells": [
  {
   "cell_type": "code",
   "execution_count": 31,
   "id": "8e036648",
   "metadata": {},
   "outputs": [],
   "source": [
    "import pandas as pd\n",
    "from sklearn.model_selection import train_test_split\n",
    "import tensorflow as tf\n",
    "import numpy as np"
   ]
  },
  {
   "cell_type": "code",
   "execution_count": 32,
   "id": "5bc7f2d3",
   "metadata": {},
   "outputs": [],
   "source": [
    "df = pd.read_csv(\"datasets/log2.csv\")"
   ]
  },
  {
   "cell_type": "code",
   "execution_count": 33,
   "id": "1df0e3a5",
   "metadata": {},
   "outputs": [
    {
     "data": {
      "text/html": [
       "<div>\n",
       "<style scoped>\n",
       "    .dataframe tbody tr th:only-of-type {\n",
       "        vertical-align: middle;\n",
       "    }\n",
       "\n",
       "    .dataframe tbody tr th {\n",
       "        vertical-align: top;\n",
       "    }\n",
       "\n",
       "    .dataframe thead th {\n",
       "        text-align: right;\n",
       "    }\n",
       "</style>\n",
       "<table border=\"1\" class=\"dataframe\">\n",
       "  <thead>\n",
       "    <tr style=\"text-align: right;\">\n",
       "      <th></th>\n",
       "      <th>Source Port</th>\n",
       "      <th>Destination Port</th>\n",
       "      <th>NAT Source Port</th>\n",
       "      <th>NAT Destination Port</th>\n",
       "      <th>Action</th>\n",
       "      <th>Bytes</th>\n",
       "      <th>Bytes Sent</th>\n",
       "      <th>Bytes Received</th>\n",
       "      <th>Packets</th>\n",
       "      <th>Elapsed Time (sec)</th>\n",
       "      <th>pkts_sent</th>\n",
       "      <th>pkts_received</th>\n",
       "    </tr>\n",
       "  </thead>\n",
       "  <tbody>\n",
       "    <tr>\n",
       "      <th>0</th>\n",
       "      <td>57222</td>\n",
       "      <td>53</td>\n",
       "      <td>54587</td>\n",
       "      <td>53</td>\n",
       "      <td>allow</td>\n",
       "      <td>177</td>\n",
       "      <td>94</td>\n",
       "      <td>83</td>\n",
       "      <td>2</td>\n",
       "      <td>30</td>\n",
       "      <td>1</td>\n",
       "      <td>1</td>\n",
       "    </tr>\n",
       "    <tr>\n",
       "      <th>1</th>\n",
       "      <td>56258</td>\n",
       "      <td>3389</td>\n",
       "      <td>56258</td>\n",
       "      <td>3389</td>\n",
       "      <td>allow</td>\n",
       "      <td>4768</td>\n",
       "      <td>1600</td>\n",
       "      <td>3168</td>\n",
       "      <td>19</td>\n",
       "      <td>17</td>\n",
       "      <td>10</td>\n",
       "      <td>9</td>\n",
       "    </tr>\n",
       "  </tbody>\n",
       "</table>\n",
       "</div>"
      ],
      "text/plain": [
       "   Source Port  Destination Port  NAT Source Port  NAT Destination Port  \\\n",
       "0        57222                53            54587                    53   \n",
       "1        56258              3389            56258                  3389   \n",
       "\n",
       "  Action  Bytes  Bytes Sent  Bytes Received  Packets  Elapsed Time (sec)  \\\n",
       "0  allow    177          94              83        2                  30   \n",
       "1  allow   4768        1600            3168       19                  17   \n",
       "\n",
       "   pkts_sent  pkts_received  \n",
       "0          1              1  \n",
       "1         10              9  "
      ]
     },
     "execution_count": 33,
     "metadata": {},
     "output_type": "execute_result"
    }
   ],
   "source": [
    "df.head(2)"
   ]
  },
  {
   "cell_type": "code",
   "execution_count": 35,
   "id": "2e168fd6",
   "metadata": {},
   "outputs": [],
   "source": [
    "X =df.drop(['Action','Source Port','Destination Port','NAT Source Port','NAT Destination Port'],axis=1)"
   ]
  },
  {
   "cell_type": "code",
   "execution_count": 36,
   "id": "a5f86b7c",
   "metadata": {},
   "outputs": [],
   "source": [
    "Y = df[\"Action\"]"
   ]
  },
  {
   "cell_type": "code",
   "execution_count": 37,
   "id": "9e3803f4",
   "metadata": {},
   "outputs": [
    {
     "data": {
      "text/plain": [
       "7"
      ]
     },
     "execution_count": 37,
     "metadata": {},
     "output_type": "execute_result"
    }
   ],
   "source": [
    "len(X.columns)"
   ]
  },
  {
   "cell_type": "code",
   "execution_count": null,
   "id": "b627c80a",
   "metadata": {},
   "outputs": [],
   "source": []
  },
  {
   "cell_type": "code",
   "execution_count": 39,
   "id": "4edfd2bf",
   "metadata": {},
   "outputs": [
    {
     "data": {
      "text/plain": [
       "array(['allow', 'drop', 'deny', 'reset-both'], dtype=object)"
      ]
     },
     "execution_count": 39,
     "metadata": {},
     "output_type": "execute_result"
    }
   ],
   "source": [
    "Y.unique()"
   ]
  },
  {
   "cell_type": "code",
   "execution_count": 40,
   "id": "5282bf60",
   "metadata": {},
   "outputs": [],
   "source": [
    "Y = Y.map({'allow':4,'reset-both':3,'deny':2,'drop':1})"
   ]
  },
  {
   "cell_type": "code",
   "execution_count": 41,
   "id": "4b812955",
   "metadata": {},
   "outputs": [
    {
     "name": "stdout",
     "output_type": "stream",
     "text": [
      "<class 'pandas.core.frame.DataFrame'>\n",
      "RangeIndex: 65532 entries, 0 to 65531\n",
      "Data columns (total 7 columns):\n",
      " #   Column              Non-Null Count  Dtype\n",
      "---  ------              --------------  -----\n",
      " 0   Bytes               65532 non-null  int64\n",
      " 1   Bytes Sent          65532 non-null  int64\n",
      " 2   Bytes Received      65532 non-null  int64\n",
      " 3   Packets             65532 non-null  int64\n",
      " 4   Elapsed Time (sec)  65532 non-null  int64\n",
      " 5   pkts_sent           65532 non-null  int64\n",
      " 6   pkts_received       65532 non-null  int64\n",
      "dtypes: int64(7)\n",
      "memory usage: 3.5 MB\n"
     ]
    }
   ],
   "source": [
    "X.info()"
   ]
  },
  {
   "cell_type": "code",
   "execution_count": 42,
   "id": "a0093c66",
   "metadata": {},
   "outputs": [
    {
     "name": "stdout",
     "output_type": "stream",
     "text": [
      "(52425, 7) (13107, 7) (65532, 7)\n"
     ]
    }
   ],
   "source": [
    "X_train,X_test,y_train,y_test=train_test_split(X,Y,test_size=0.2,random_state=2)\n",
    "print(X_train.shape,X_test.shape,X.shape)"
   ]
  },
  {
   "cell_type": "code",
   "execution_count": 47,
   "id": "d97c5561",
   "metadata": {},
   "outputs": [],
   "source": [
    "model = tf.keras.models.Sequential()\n",
    "model.add(tf.keras.layers.Flatten(input_shape=(7,)))\n",
    "\n",
    "model.add(tf.keras.layers.Dense(16, activation = 'relu'))\n",
    "model.add(tf.keras.layers.BatchNormalization()) \n",
    "\n",
    "model.add(tf.keras.layers.Dense(32, activation = 'relu'))\n",
    "model.add(tf.keras.layers.BatchNormalization()) \n",
    "\n",
    "model.add(tf.keras.layers.Dense(64, activation = 'relu'))\n",
    "model.add(tf.keras.layers.BatchNormalization()) \n",
    "\n",
    "model.add(tf.keras.layers.Dense(1, activation = 'softmax'))"
   ]
  },
  {
   "cell_type": "code",
   "execution_count": 48,
   "id": "2ebbfe1c",
   "metadata": {},
   "outputs": [],
   "source": [
    "model.compile(loss='categorical_crossentropy',optimizer='adam',metrics=['accuracy'])"
   ]
  },
  {
   "cell_type": "code",
   "execution_count": 50,
   "id": "d8105357",
   "metadata": {},
   "outputs": [
    {
     "name": "stdout",
     "output_type": "stream",
     "text": [
      "Epoch 1/30\n",
      "410/410 [==============================] - 1s 3ms/step - loss: 0.0000e+00 - accuracy: 0.1963 - val_loss: 0.0000e+00 - val_accuracy: 0.1953\n",
      "Epoch 2/30\n",
      "410/410 [==============================] - 1s 3ms/step - loss: 0.0000e+00 - accuracy: 0.1963 - val_loss: 0.0000e+00 - val_accuracy: 0.1953\n",
      "Epoch 3/30\n",
      "410/410 [==============================] - 1s 3ms/step - loss: 0.0000e+00 - accuracy: 0.1963 - val_loss: 0.0000e+00 - val_accuracy: 0.1953\n",
      "Epoch 4/30\n",
      "410/410 [==============================] - 1s 3ms/step - loss: 0.0000e+00 - accuracy: 0.1963 - val_loss: 0.0000e+00 - val_accuracy: 0.1953\n",
      "Epoch 5/30\n",
      "410/410 [==============================] - 1s 3ms/step - loss: 0.0000e+00 - accuracy: 0.1963 - val_loss: 0.0000e+00 - val_accuracy: 0.1953\n",
      "Epoch 6/30\n",
      "410/410 [==============================] - 1s 3ms/step - loss: 0.0000e+00 - accuracy: 0.1963 - val_loss: 0.0000e+00 - val_accuracy: 0.1953\n",
      "Epoch 7/30\n",
      "410/410 [==============================] - 1s 3ms/step - loss: 0.0000e+00 - accuracy: 0.1963 - val_loss: 0.0000e+00 - val_accuracy: 0.1953\n",
      "Epoch 8/30\n",
      "410/410 [==============================] - 1s 3ms/step - loss: 0.0000e+00 - accuracy: 0.1963 - val_loss: 0.0000e+00 - val_accuracy: 0.1953\n",
      "Epoch 9/30\n",
      "410/410 [==============================] - 1s 3ms/step - loss: 0.0000e+00 - accuracy: 0.1963 - val_loss: 0.0000e+00 - val_accuracy: 0.1953\n",
      "Epoch 10/30\n",
      "410/410 [==============================] - 1s 3ms/step - loss: 0.0000e+00 - accuracy: 0.1963 - val_loss: 0.0000e+00 - val_accuracy: 0.1953\n",
      "Epoch 11/30\n",
      "410/410 [==============================] - 1s 3ms/step - loss: 0.0000e+00 - accuracy: 0.1963 - val_loss: 0.0000e+00 - val_accuracy: 0.1953\n",
      "Epoch 12/30\n",
      "410/410 [==============================] - 1s 3ms/step - loss: 0.0000e+00 - accuracy: 0.1963 - val_loss: 0.0000e+00 - val_accuracy: 0.1953\n",
      "Epoch 13/30\n",
      "410/410 [==============================] - 1s 3ms/step - loss: 0.0000e+00 - accuracy: 0.1963 - val_loss: 0.0000e+00 - val_accuracy: 0.1953\n",
      "Epoch 14/30\n",
      "410/410 [==============================] - 1s 3ms/step - loss: 0.0000e+00 - accuracy: 0.1963 - val_loss: 0.0000e+00 - val_accuracy: 0.1953\n",
      "Epoch 15/30\n",
      "410/410 [==============================] - 1s 3ms/step - loss: 0.0000e+00 - accuracy: 0.1963 - val_loss: 0.0000e+00 - val_accuracy: 0.1953\n",
      "Epoch 16/30\n",
      "410/410 [==============================] - 1s 3ms/step - loss: 0.0000e+00 - accuracy: 0.1963 - val_loss: 0.0000e+00 - val_accuracy: 0.1953\n",
      "Epoch 17/30\n",
      "410/410 [==============================] - 1s 3ms/step - loss: 0.0000e+00 - accuracy: 0.1963 - val_loss: 0.0000e+00 - val_accuracy: 0.1953\n",
      "Epoch 18/30\n",
      "410/410 [==============================] - 1s 3ms/step - loss: 0.0000e+00 - accuracy: 0.1963 - val_loss: 0.0000e+00 - val_accuracy: 0.1953\n",
      "Epoch 19/30\n",
      "410/410 [==============================] - 1s 3ms/step - loss: 0.0000e+00 - accuracy: 0.1963 - val_loss: 0.0000e+00 - val_accuracy: 0.1953\n",
      "Epoch 20/30\n",
      "410/410 [==============================] - 1s 3ms/step - loss: 0.0000e+00 - accuracy: 0.1963 - val_loss: 0.0000e+00 - val_accuracy: 0.1953\n",
      "Epoch 21/30\n",
      "410/410 [==============================] - 1s 3ms/step - loss: 0.0000e+00 - accuracy: 0.1963 - val_loss: 0.0000e+00 - val_accuracy: 0.1953\n",
      "Epoch 22/30\n",
      "410/410 [==============================] - 1s 3ms/step - loss: 0.0000e+00 - accuracy: 0.1963 - val_loss: 0.0000e+00 - val_accuracy: 0.1953\n",
      "Epoch 23/30\n",
      "410/410 [==============================] - 1s 3ms/step - loss: 0.0000e+00 - accuracy: 0.1963 - val_loss: 0.0000e+00 - val_accuracy: 0.1953\n",
      "Epoch 24/30\n",
      "410/410 [==============================] - 1s 3ms/step - loss: 0.0000e+00 - accuracy: 0.1963 - val_loss: 0.0000e+00 - val_accuracy: 0.1953\n",
      "Epoch 25/30\n",
      "410/410 [==============================] - 1s 3ms/step - loss: 0.0000e+00 - accuracy: 0.1963 - val_loss: 0.0000e+00 - val_accuracy: 0.1953\n",
      "Epoch 26/30\n",
      "410/410 [==============================] - 1s 3ms/step - loss: 0.0000e+00 - accuracy: 0.1963 - val_loss: 0.0000e+00 - val_accuracy: 0.1953\n",
      "Epoch 27/30\n",
      "410/410 [==============================] - 1s 3ms/step - loss: 0.0000e+00 - accuracy: 0.1963 - val_loss: 0.0000e+00 - val_accuracy: 0.1953\n",
      "Epoch 28/30\n",
      "410/410 [==============================] - 1s 3ms/step - loss: 0.0000e+00 - accuracy: 0.1963 - val_loss: 0.0000e+00 - val_accuracy: 0.1953\n",
      "Epoch 29/30\n",
      "410/410 [==============================] - 1s 3ms/step - loss: 0.0000e+00 - accuracy: 0.1963 - val_loss: 0.0000e+00 - val_accuracy: 0.1953\n",
      "Epoch 30/30\n",
      "410/410 [==============================] - 1s 3ms/step - loss: 0.0000e+00 - accuracy: 0.1963 - val_loss: 0.0000e+00 - val_accuracy: 0.1953\n"
     ]
    },
    {
     "data": {
      "text/plain": [
       "<keras.callbacks.History at 0x174097f9940>"
      ]
     },
     "execution_count": 50,
     "metadata": {},
     "output_type": "execute_result"
    }
   ],
   "source": [
    "model.fit(X_train,y_train,batch_size=128 ,epochs=30, validation_data=(X_test,y_test))\n"
   ]
  },
  {
   "cell_type": "code",
   "execution_count": null,
   "id": "7bd1e30d",
   "metadata": {},
   "outputs": [],
   "source": []
  }
 ],
 "metadata": {
  "kernelspec": {
   "display_name": "Python 3 (ipykernel)",
   "language": "python",
   "name": "python3"
  },
  "language_info": {
   "codemirror_mode": {
    "name": "ipython",
    "version": 3
   },
   "file_extension": ".py",
   "mimetype": "text/x-python",
   "name": "python",
   "nbconvert_exporter": "python",
   "pygments_lexer": "ipython3",
   "version": "3.9.7"
  }
 },
 "nbformat": 4,
 "nbformat_minor": 5
}
