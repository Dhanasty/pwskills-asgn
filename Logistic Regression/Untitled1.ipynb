{
 "cells": [
  {
   "cell_type": "code",
   "execution_count": 5,
   "id": "d0033a02",
   "metadata": {},
   "outputs": [],
   "source": [
    "from sklearn.model_selection import GridSearchCV\n",
    "from sklearn.linear_model import LogisticRegression\n",
    "import warnings\n",
    "warnings.filterwarnings('ignore')"
   ]
  },
  {
   "cell_type": "code",
   "execution_count": 34,
   "id": "c2aacbc2",
   "metadata": {},
   "outputs": [],
   "source": [
    "parameters={'penalty':('l1','l2','elasticnet'),'C':[1,10,20,30],'solver':('lbfgs', 'liblinear', 'newton-cg', 'newton-cholesky', 'sag', 'saga')}"
   ]
  },
  {
   "cell_type": "code",
   "execution_count": 35,
   "id": "7c8944e9",
   "metadata": {},
   "outputs": [],
   "source": [
    "classifier = LogisticRegression()"
   ]
  },
  {
   "cell_type": "code",
   "execution_count": 36,
   "id": "2e410b1e",
   "metadata": {},
   "outputs": [],
   "source": [
    "clf =GridSearchCV(classifier,param_grid=parameters,cv=5)"
   ]
  },
  {
   "cell_type": "code",
   "execution_count": 37,
   "id": "2bafa6f7",
   "metadata": {},
   "outputs": [],
   "source": [
    "## Lets see more complex data\n",
    "\n",
    "# make a prediction with a multinomial logistic regression model\n",
    "from sklearn.datasets import make_classification\n",
    "from sklearn.linear_model import LogisticRegression\n",
    "# define dataset\n",
    "X, y = make_classification(n_samples=1000, n_features=10, n_informative=5, n_redundant=5, n_classes=2, random_state=1)"
   ]
  },
  {
   "cell_type": "code",
   "execution_count": 38,
   "id": "676cea77",
   "metadata": {},
   "outputs": [],
   "source": [
    "from sklearn.model_selection import train_test_split"
   ]
  },
  {
   "cell_type": "code",
   "execution_count": 39,
   "id": "903d58ef",
   "metadata": {},
   "outputs": [],
   "source": [
    "X_train,X_test,y_train,y_test = train_test_split(X,y,test_size=0.2,random_state=42)"
   ]
  },
  {
   "cell_type": "code",
   "execution_count": 40,
   "id": "cfd5648c",
   "metadata": {},
   "outputs": [
    {
     "data": {
      "text/plain": [
       "GridSearchCV(cv=5, estimator=LogisticRegression(),\n",
       "             param_grid={'C': [1, 10, 20, 30],\n",
       "                         'penalty': ('l1', 'l2', 'elasticnet'),\n",
       "                         'solver': ('lbfgs', 'liblinear', 'newton-cg',\n",
       "                                    'newton-cholesky', 'sag', 'saga')})"
      ]
     },
     "execution_count": 40,
     "metadata": {},
     "output_type": "execute_result"
    }
   ],
   "source": [
    "clf.fit(X_train,y_train)"
   ]
  },
  {
   "cell_type": "code",
   "execution_count": 41,
   "id": "02763505",
   "metadata": {},
   "outputs": [
    {
     "data": {
      "text/plain": [
       "{'C': 1, 'penalty': 'l1', 'solver': 'liblinear'}"
      ]
     },
     "execution_count": 41,
     "metadata": {},
     "output_type": "execute_result"
    }
   ],
   "source": [
    "clf.best_params_"
   ]
  },
  {
   "cell_type": "code",
   "execution_count": 42,
   "id": "fdfe332e",
   "metadata": {},
   "outputs": [
    {
     "data": {
      "text/plain": [
       "0.8087500000000001"
      ]
     },
     "execution_count": 42,
     "metadata": {},
     "output_type": "execute_result"
    }
   ],
   "source": [
    "clf.best_score_"
   ]
  },
  {
   "cell_type": "code",
   "execution_count": 18,
   "id": "879bbed8",
   "metadata": {},
   "outputs": [
    {
     "data": {
      "text/plain": [
       "LogisticRegression(C=1)"
      ]
     },
     "execution_count": 18,
     "metadata": {},
     "output_type": "execute_result"
    }
   ],
   "source": [
    "clf.best_estimator_"
   ]
  },
  {
   "cell_type": "code",
   "execution_count": 19,
   "id": "d719ad1d",
   "metadata": {},
   "outputs": [
    {
     "data": {
      "text/plain": [
       "1"
      ]
     },
     "execution_count": 19,
     "metadata": {},
     "output_type": "execute_result"
    }
   ],
   "source": [
    "clf.best_index_"
   ]
  },
  {
   "cell_type": "code",
   "execution_count": 43,
   "id": "889aa332",
   "metadata": {},
   "outputs": [],
   "source": [
    "classifier = LogisticRegression(C=1,penalty='l2',solver='liblinear')"
   ]
  },
  {
   "cell_type": "code",
   "execution_count": 44,
   "id": "a627020b",
   "metadata": {},
   "outputs": [
    {
     "data": {
      "text/plain": [
       "LogisticRegression(C=1, solver='liblinear')"
      ]
     },
     "execution_count": 44,
     "metadata": {},
     "output_type": "execute_result"
    }
   ],
   "source": [
    "classifier.fit(X_train,y_train)"
   ]
  },
  {
   "cell_type": "code",
   "execution_count": 46,
   "id": "c30c55a1",
   "metadata": {},
   "outputs": [],
   "source": [
    "y_pred = classifier.predict(X_test)"
   ]
  },
  {
   "cell_type": "code",
   "execution_count": 47,
   "id": "3238f90c",
   "metadata": {},
   "outputs": [],
   "source": [
    "from sklearn.metrics import confusion_matrix,accuracy_score,classification_report"
   ]
  },
  {
   "cell_type": "code",
   "execution_count": 48,
   "id": "b5107a6a",
   "metadata": {},
   "outputs": [
    {
     "data": {
      "text/plain": [
       "array([[78, 13],\n",
       "       [29, 80]], dtype=int64)"
      ]
     },
     "execution_count": 48,
     "metadata": {},
     "output_type": "execute_result"
    }
   ],
   "source": [
    "confusion_matrix(y_test,y_pred)\n"
   ]
  },
  {
   "cell_type": "code",
   "execution_count": 49,
   "id": "f98b7c91",
   "metadata": {},
   "outputs": [
    {
     "data": {
      "text/plain": [
       "array([[0.71485303, 0.28514697],\n",
       "       [0.19557827, 0.80442173],\n",
       "       [0.12300482, 0.87699518],\n",
       "       [0.04954665, 0.95045335],\n",
       "       [0.88697131, 0.11302869],\n",
       "       [0.74971382, 0.25028618],\n",
       "       [0.97938961, 0.02061039],\n",
       "       [0.39248274, 0.60751726],\n",
       "       [0.59925065, 0.40074935],\n",
       "       [0.39231798, 0.60768202],\n",
       "       [0.2037125 , 0.7962875 ],\n",
       "       [0.80211941, 0.19788059],\n",
       "       [0.86290647, 0.13709353],\n",
       "       [0.92584573, 0.07415427],\n",
       "       [0.00129826, 0.99870174],\n",
       "       [0.04143876, 0.95856124],\n",
       "       [0.56029931, 0.43970069],\n",
       "       [0.89201375, 0.10798625],\n",
       "       [0.29153657, 0.70846343],\n",
       "       [0.0084863 , 0.9915137 ],\n",
       "       [0.71863447, 0.28136553],\n",
       "       [0.50833434, 0.49166566],\n",
       "       [0.76167355, 0.23832645],\n",
       "       [0.73140648, 0.26859352],\n",
       "       [0.10125931, 0.89874069],\n",
       "       [0.03997952, 0.96002048],\n",
       "       [0.57682431, 0.42317569],\n",
       "       [0.00529658, 0.99470342],\n",
       "       [0.03077926, 0.96922074],\n",
       "       [0.96041917, 0.03958083],\n",
       "       [0.85373833, 0.14626167],\n",
       "       [0.78967512, 0.21032488],\n",
       "       [0.38952554, 0.61047446],\n",
       "       [0.4116225 , 0.5883775 ],\n",
       "       [0.98183243, 0.01816757],\n",
       "       [0.04739429, 0.95260571],\n",
       "       [0.56824886, 0.43175114],\n",
       "       [0.77759533, 0.22240467],\n",
       "       [0.07874191, 0.92125809],\n",
       "       [0.89203954, 0.10796046],\n",
       "       [0.91148616, 0.08851384],\n",
       "       [0.0358462 , 0.9641538 ],\n",
       "       [0.77385426, 0.22614574],\n",
       "       [0.82669743, 0.17330257],\n",
       "       [0.27183569, 0.72816431],\n",
       "       [0.40810909, 0.59189091],\n",
       "       [0.41418712, 0.58581288],\n",
       "       [0.30191753, 0.69808247],\n",
       "       [0.23083301, 0.76916699],\n",
       "       [0.430643  , 0.569357  ],\n",
       "       [0.72195757, 0.27804243],\n",
       "       [0.62071913, 0.37928087],\n",
       "       [0.20251785, 0.79748215],\n",
       "       [0.05214344, 0.94785656],\n",
       "       [0.7764505 , 0.2235495 ],\n",
       "       [0.11834788, 0.88165212],\n",
       "       [0.83758515, 0.16241485],\n",
       "       [0.05986967, 0.94013033],\n",
       "       [0.03042699, 0.96957301],\n",
       "       [0.02186328, 0.97813672],\n",
       "       [0.56562508, 0.43437492],\n",
       "       [0.35827629, 0.64172371],\n",
       "       [0.54955773, 0.45044227],\n",
       "       [0.15482973, 0.84517027],\n",
       "       [0.76090128, 0.23909872],\n",
       "       [0.62910741, 0.37089259],\n",
       "       [0.59599287, 0.40400713],\n",
       "       [0.00263457, 0.99736543],\n",
       "       [0.83349003, 0.16650997],\n",
       "       [0.5974315 , 0.4025685 ],\n",
       "       [0.14008891, 0.85991109],\n",
       "       [0.83996675, 0.16003325],\n",
       "       [0.96715594, 0.03284406],\n",
       "       [0.84587181, 0.15412819],\n",
       "       [0.03520596, 0.96479404],\n",
       "       [0.96237592, 0.03762408],\n",
       "       [0.74633299, 0.25366701],\n",
       "       [0.69751491, 0.30248509],\n",
       "       [0.48197384, 0.51802616],\n",
       "       [0.00362733, 0.99637267],\n",
       "       [0.78526669, 0.21473331],\n",
       "       [0.06351297, 0.93648703],\n",
       "       [0.57809394, 0.42190606],\n",
       "       [0.05014006, 0.94985994],\n",
       "       [0.90447743, 0.09552257],\n",
       "       [0.06636566, 0.93363434],\n",
       "       [0.66948488, 0.33051512],\n",
       "       [0.9261403 , 0.0738597 ],\n",
       "       [0.55357545, 0.44642455],\n",
       "       [0.74686295, 0.25313705],\n",
       "       [0.77390868, 0.22609132],\n",
       "       [0.63504561, 0.36495439],\n",
       "       [0.01426258, 0.98573742],\n",
       "       [0.52493033, 0.47506967],\n",
       "       [0.02022884, 0.97977116],\n",
       "       [0.83848224, 0.16151776],\n",
       "       [0.01921833, 0.98078167],\n",
       "       [0.60961775, 0.39038225],\n",
       "       [0.92666674, 0.07333326],\n",
       "       [0.11526368, 0.88473632],\n",
       "       [0.00348209, 0.99651791],\n",
       "       [0.58225604, 0.41774396],\n",
       "       [0.28191306, 0.71808694],\n",
       "       [0.69356141, 0.30643859],\n",
       "       [0.06283072, 0.93716928],\n",
       "       [0.9750575 , 0.0249425 ],\n",
       "       [0.11167897, 0.88832103],\n",
       "       [0.75767536, 0.24232464],\n",
       "       [0.00313354, 0.99686646],\n",
       "       [0.55861603, 0.44138397],\n",
       "       [0.5704165 , 0.4295835 ],\n",
       "       [0.91441047, 0.08558953],\n",
       "       [0.51737352, 0.48262648],\n",
       "       [0.90861719, 0.09138281],\n",
       "       [0.52771836, 0.47228164],\n",
       "       [0.00317477, 0.99682523],\n",
       "       [0.04079801, 0.95920199],\n",
       "       [0.13171645, 0.86828355],\n",
       "       [0.14601818, 0.85398182],\n",
       "       [0.33886317, 0.66113683],\n",
       "       [0.04041779, 0.95958221],\n",
       "       [0.0993956 , 0.9006044 ],\n",
       "       [0.85486639, 0.14513361],\n",
       "       [0.11148193, 0.88851807],\n",
       "       [0.55060357, 0.44939643],\n",
       "       [0.88794351, 0.11205649],\n",
       "       [0.88980802, 0.11019198],\n",
       "       [0.12925738, 0.87074262],\n",
       "       [0.90719404, 0.09280596],\n",
       "       [0.74889592, 0.25110408],\n",
       "       [0.75824249, 0.24175751],\n",
       "       [0.76685073, 0.23314927],\n",
       "       [0.46795336, 0.53204664],\n",
       "       [0.95048764, 0.04951236],\n",
       "       [0.98285691, 0.01714309],\n",
       "       [0.92955442, 0.07044558],\n",
       "       [0.03516524, 0.96483476],\n",
       "       [0.49813681, 0.50186319],\n",
       "       [0.36652862, 0.63347138],\n",
       "       [0.84743041, 0.15256959],\n",
       "       [0.86306698, 0.13693302],\n",
       "       [0.5253588 , 0.4746412 ],\n",
       "       [0.95396365, 0.04603635],\n",
       "       [0.41552739, 0.58447261],\n",
       "       [0.96201991, 0.03798009],\n",
       "       [0.99119565, 0.00880435],\n",
       "       [0.70458379, 0.29541621],\n",
       "       [0.06517167, 0.93482833],\n",
       "       [0.05100834, 0.94899166],\n",
       "       [0.01970798, 0.98029202],\n",
       "       [0.84240659, 0.15759341],\n",
       "       [0.95474619, 0.04525381],\n",
       "       [0.78782608, 0.21217392],\n",
       "       [0.97447314, 0.02552686],\n",
       "       [0.77437073, 0.22562927],\n",
       "       [0.9297514 , 0.0702486 ],\n",
       "       [0.04192704, 0.95807296],\n",
       "       [0.23836358, 0.76163642],\n",
       "       [0.69634692, 0.30365308],\n",
       "       [0.0573086 , 0.9426914 ],\n",
       "       [0.04982115, 0.95017885],\n",
       "       [0.89139896, 0.10860104],\n",
       "       [0.83025746, 0.16974254],\n",
       "       [0.38399281, 0.61600719],\n",
       "       [0.01839371, 0.98160629],\n",
       "       [0.82342883, 0.17657117],\n",
       "       [0.78382582, 0.21617418],\n",
       "       [0.03056019, 0.96943981],\n",
       "       [0.08147406, 0.91852594],\n",
       "       [0.77455692, 0.22544308],\n",
       "       [0.93045669, 0.06954331],\n",
       "       [0.01223862, 0.98776138],\n",
       "       [0.11066088, 0.88933912],\n",
       "       [0.79934488, 0.20065512],\n",
       "       [0.01098399, 0.98901601],\n",
       "       [0.04428806, 0.95571194],\n",
       "       [0.98175727, 0.01824273],\n",
       "       [0.03153565, 0.96846435],\n",
       "       [0.25935926, 0.74064074],\n",
       "       [0.81825215, 0.18174785],\n",
       "       [0.39887137, 0.60112863],\n",
       "       [0.37532443, 0.62467557],\n",
       "       [0.7773495 , 0.2226505 ],\n",
       "       [0.73934017, 0.26065983],\n",
       "       [0.4590341 , 0.5409659 ],\n",
       "       [0.53646136, 0.46353864],\n",
       "       [0.03660127, 0.96339873],\n",
       "       [0.00850291, 0.99149709],\n",
       "       [0.91524551, 0.08475449],\n",
       "       [0.11624918, 0.88375082],\n",
       "       [0.61300814, 0.38699186],\n",
       "       [0.03406481, 0.96593519],\n",
       "       [0.01550735, 0.98449265],\n",
       "       [0.06564478, 0.93435522],\n",
       "       [0.89965775, 0.10034225],\n",
       "       [0.04938509, 0.95061491],\n",
       "       [0.87262254, 0.12737746],\n",
       "       [0.02118179, 0.97881821],\n",
       "       [0.64197678, 0.35802322],\n",
       "       [0.00975939, 0.99024061]])"
      ]
     },
     "execution_count": 49,
     "metadata": {},
     "output_type": "execute_result"
    }
   ],
   "source": [
    " classifier.predict_proba(X_test)"
   ]
  },
  {
   "cell_type": "code",
   "execution_count": 50,
   "id": "3b681b4b",
   "metadata": {},
   "outputs": [
    {
     "data": {
      "text/plain": [
       "0.79"
      ]
     },
     "execution_count": 50,
     "metadata": {},
     "output_type": "execute_result"
    }
   ],
   "source": [
    "accuracy_score(y_test,y_pred)\n"
   ]
  },
  {
   "cell_type": "code",
   "execution_count": 51,
   "id": "6d3ea5cd",
   "metadata": {},
   "outputs": [
    {
     "data": {
      "text/plain": [
       "'              precision    recall  f1-score   support\\n\\n           0       0.73      0.86      0.79        91\\n           1       0.86      0.73      0.79       109\\n\\n    accuracy                           0.79       200\\n   macro avg       0.79      0.80      0.79       200\\nweighted avg       0.80      0.79      0.79       200\\n'"
      ]
     },
     "execution_count": 51,
     "metadata": {},
     "output_type": "execute_result"
    }
   ],
   "source": [
    "classification_report(y_test,y_pred)"
   ]
  },
  {
   "cell_type": "code",
   "execution_count": 52,
   "id": "72703b90",
   "metadata": {},
   "outputs": [],
   "source": [
    "from sklearn.model_selection import RandomizedSearchCV"
   ]
  },
  {
   "cell_type": "code",
   "execution_count": 53,
   "id": "ec1eec5c",
   "metadata": {},
   "outputs": [],
   "source": [
    "rcv = RandomizedSearchCV(LogisticRegression(),param_distributions=parameters,cv=5,n_iter=20)"
   ]
  },
  {
   "cell_type": "code",
   "execution_count": 54,
   "id": "01e87a59",
   "metadata": {},
   "outputs": [
    {
     "data": {
      "text/plain": [
       "RandomizedSearchCV(cv=5, estimator=LogisticRegression(), n_iter=20,\n",
       "                   param_distributions={'C': [1, 10, 20, 30],\n",
       "                                        'penalty': ('l1', 'l2', 'elasticnet'),\n",
       "                                        'solver': ('lbfgs', 'liblinear',\n",
       "                                                   'newton-cg',\n",
       "                                                   'newton-cholesky', 'sag',\n",
       "                                                   'saga')})"
      ]
     },
     "execution_count": 54,
     "metadata": {},
     "output_type": "execute_result"
    }
   ],
   "source": [
    "rcv.fit(X_train,y_train)"
   ]
  },
  {
   "cell_type": "code",
   "execution_count": 55,
   "id": "56ea38d2",
   "metadata": {},
   "outputs": [
    {
     "data": {
      "text/plain": [
       "{'solver': 'saga', 'penalty': 'l2', 'C': 1}"
      ]
     },
     "execution_count": 55,
     "metadata": {},
     "output_type": "execute_result"
    }
   ],
   "source": [
    "rcv.best_params_"
   ]
  },
  {
   "cell_type": "code",
   "execution_count": 56,
   "id": "578822b1",
   "metadata": {},
   "outputs": [
    {
     "data": {
      "text/plain": [
       "0.8087500000000001"
      ]
     },
     "execution_count": 56,
     "metadata": {},
     "output_type": "execute_result"
    }
   ],
   "source": [
    "rcv.best_score_"
   ]
  },
  {
   "cell_type": "code",
   "execution_count": null,
   "id": "b3716881",
   "metadata": {},
   "outputs": [],
   "source": []
  }
 ],
 "metadata": {
  "kernelspec": {
   "display_name": "Python 3 (ipykernel)",
   "language": "python",
   "name": "python3"
  },
  "language_info": {
   "codemirror_mode": {
    "name": "ipython",
    "version": 3
   },
   "file_extension": ".py",
   "mimetype": "text/x-python",
   "name": "python",
   "nbconvert_exporter": "python",
   "pygments_lexer": "ipython3",
   "version": "3.9.7"
  }
 },
 "nbformat": 4,
 "nbformat_minor": 5
}
